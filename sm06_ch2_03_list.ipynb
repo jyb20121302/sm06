{
  "nbformat": 4,
  "nbformat_minor": 0,
  "metadata": {
    "colab": {
      "name": "sm06_ch2_03_list.ipynb",
      "provenance": [],
      "collapsed_sections": [],
      "include_colab_link": true
    },
    "kernelspec": {
      "name": "python3",
      "display_name": "Python 3"
    }
  },
  "cells": [
    {
      "cell_type": "markdown",
      "metadata": {
        "id": "view-in-github",
        "colab_type": "text"
      },
      "source": [
        "<a href=\"https://colab.research.google.com/github/jyb20121302/sm06/blob/master/sm06_ch2_03_list.ipynb\" target=\"_parent\"><img src=\"https://colab.research.google.com/assets/colab-badge.svg\" alt=\"Open In Colab\"/></a>"
      ]
    },
    {
      "cell_type": "markdown",
      "metadata": {
        "id": "APinF5GkOQ6d",
        "colab_type": "text"
      },
      "source": [
        "#**리스트**"
      ]
    },
    {
      "cell_type": "code",
      "metadata": {
        "id": "EL74AX22OcIL",
        "colab_type": "code",
        "outputId": "a6edf1f3-c5f0-4148-d461-8cfab1582108",
        "colab": {
          "base_uri": "https://localhost:8080/",
          "height": 53
        }
      },
      "source": [
        "print(\"리스트: list 란?\")\n",
        "odd = [1, 3, 5, 7, 9]\n",
        "odd"
      ],
      "execution_count": 0,
      "outputs": [
        {
          "output_type": "stream",
          "text": [
            "리스트: list 란?\n"
          ],
          "name": "stdout"
        },
        {
          "output_type": "execute_result",
          "data": {
            "text/plain": [
              "[1, 3, 5, 7, 9]"
            ]
          },
          "metadata": {
            "tags": []
          },
          "execution_count": 2
        }
      ]
    },
    {
      "cell_type": "code",
      "metadata": {
        "id": "n8t88b4mO7NK",
        "colab_type": "code",
        "outputId": "e0247b1c-a43f-448a-dcd1-c80c096e6b68",
        "colab": {
          "base_uri": "https://localhost:8080/",
          "height": 107
        }
      },
      "source": [
        "#여러가지 리스트\n",
        "a = []   # list 초기화\n",
        "b = [1, 2, 3]\n",
        "c = ['Life', 'is', 'too', 'short']\n",
        "d = [1, 2, 'Life', 'is']            # 파이썬의 특징(정수와 문자열 함께 사용 가능)\n",
        "e = [1, 2, ['Life', 'is']]          # 리스트안에 리스트 설정 가능   \n",
        "\n",
        "print(a)\n",
        "print(b)\n",
        "print(c)\n",
        "print(d)\n",
        "print(e)"
      ],
      "execution_count": 0,
      "outputs": [
        {
          "output_type": "stream",
          "text": [
            "[]\n",
            "[1, 2, 3]\n",
            "['Life', 'is', 'too', 'short']\n",
            "[1, 2, 'Life', 'is']\n",
            "[1, 2, ['Life', 'is']]\n"
          ],
          "name": "stdout"
        }
      ]
    },
    {
      "cell_type": "code",
      "metadata": {
        "id": "_W1pQkR0OmZq",
        "colab_type": "code",
        "outputId": "3d9a413c-b129-4a1e-b1db-ff072154cdf0",
        "colab": {
          "base_uri": "https://localhost:8080/",
          "height": 35
        }
      },
      "source": [
        "a = list()\n",
        "a   # []   # a를 리스트로 초기화"
      ],
      "execution_count": 0,
      "outputs": [
        {
          "output_type": "execute_result",
          "data": {
            "text/plain": [
              "[]"
            ]
          },
          "metadata": {
            "tags": []
          },
          "execution_count": 8
        }
      ]
    },
    {
      "cell_type": "code",
      "metadata": {
        "id": "_bsEWGdCP4U3",
        "colab_type": "code",
        "outputId": "23bf55ed-0540-4320-bf74-d735aaaebc65",
        "colab": {
          "base_uri": "https://localhost:8080/",
          "height": 71
        }
      },
      "source": [
        "print(\"리스트: 리스트의 인덱싱과 슬라이싱\")\n",
        "print('a = [1, 2, 3]')\n",
        "a"
      ],
      "execution_count": 0,
      "outputs": [
        {
          "output_type": "stream",
          "text": [
            "리스트: 리스트의 인덱싱과 슬라이싱\n",
            "a = [1, 2, 3]\n"
          ],
          "name": "stdout"
        },
        {
          "output_type": "execute_result",
          "data": {
            "text/plain": [
              "[1, 2, 3]"
            ]
          },
          "metadata": {
            "tags": []
          },
          "execution_count": 11
        }
      ]
    },
    {
      "cell_type": "code",
      "metadata": {
        "id": "Y9mXPV6BQH9X",
        "colab_type": "code",
        "outputId": "3a15485f-dc85-4647-9b62-8ffc16b3043a",
        "colab": {
          "base_uri": "https://localhost:8080/",
          "height": 35
        }
      },
      "source": [
        "a[0]    #첫번째 인덱스 값"
      ],
      "execution_count": 0,
      "outputs": [
        {
          "output_type": "execute_result",
          "data": {
            "text/plain": [
              "1"
            ]
          },
          "metadata": {
            "tags": []
          },
          "execution_count": 14
        }
      ]
    },
    {
      "cell_type": "code",
      "metadata": {
        "id": "BaZ-NfaKQg9P",
        "colab_type": "code",
        "outputId": "3abe035f-0cc1-4d88-d959-0bf204eeb1ab",
        "colab": {
          "base_uri": "https://localhost:8080/",
          "height": 172
        }
      },
      "source": [
        "a[3]    #에러발생(리스트 인덱스가 범위를 벗어났다)"
      ],
      "execution_count": 0,
      "outputs": [
        {
          "output_type": "error",
          "ename": "IndexError",
          "evalue": "ignored",
          "traceback": [
            "\u001b[0;31m---------------------------------------------------------------------------\u001b[0m",
            "\u001b[0;31mIndexError\u001b[0m                                Traceback (most recent call last)",
            "\u001b[0;32m<ipython-input-15-ba49ea22543e>\u001b[0m in \u001b[0;36m<module>\u001b[0;34m()\u001b[0m\n\u001b[0;32m----> 1\u001b[0;31m \u001b[0ma\u001b[0m\u001b[0;34m[\u001b[0m\u001b[0;36m3\u001b[0m\u001b[0;34m]\u001b[0m    \u001b[0;31m#에러발생(리스트 인덱스가 범위를 벗어났다)\u001b[0m\u001b[0;34m\u001b[0m\u001b[0;34m\u001b[0m\u001b[0m\n\u001b[0m",
            "\u001b[0;31mIndexError\u001b[0m: list index out of range"
          ]
        }
      ]
    },
    {
      "cell_type": "code",
      "metadata": {
        "id": "Fl2thBAtQirO",
        "colab_type": "code",
        "outputId": "dda0d9d1-453c-45a2-a3ef-4d8ac8abddf6",
        "colab": {
          "base_uri": "https://localhost:8080/",
          "height": 35
        }
      },
      "source": [
        "a[0]+a[2] #1+3의 값이 나옴"
      ],
      "execution_count": 0,
      "outputs": [
        {
          "output_type": "execute_result",
          "data": {
            "text/plain": [
              "4"
            ]
          },
          "metadata": {
            "tags": []
          },
          "execution_count": 16
        }
      ]
    },
    {
      "cell_type": "code",
      "metadata": {
        "id": "APPCLWelQeTH",
        "colab_type": "code",
        "outputId": "789c6e43-1ab3-4119-b2a2-90b058cc3a46",
        "colab": {
          "base_uri": "https://localhost:8080/",
          "height": 35
        }
      },
      "source": [
        "a[-1]  #맨 마지막 인덱스 값"
      ],
      "execution_count": 0,
      "outputs": [
        {
          "output_type": "execute_result",
          "data": {
            "text/plain": [
              "3"
            ]
          },
          "metadata": {
            "tags": []
          },
          "execution_count": 17
        }
      ]
    },
    {
      "cell_type": "code",
      "metadata": {
        "id": "tL_VbNs5cE6s",
        "colab_type": "code",
        "outputId": "aa7b877e-6f6c-4266-b8d9-739aff771690",
        "colab": {
          "base_uri": "https://localhost:8080/",
          "height": 35
        }
      },
      "source": [
        "a = [1, 2, 3, ['a', 'b', 'c']]\n",
        "a"
      ],
      "execution_count": 0,
      "outputs": [
        {
          "output_type": "execute_result",
          "data": {
            "text/plain": [
              "[1, 2, 3, ['a', 'b', 'c']]"
            ]
          },
          "metadata": {
            "tags": []
          },
          "execution_count": 19
        }
      ]
    },
    {
      "cell_type": "code",
      "metadata": {
        "id": "QC8ZLB1dcJ4o",
        "colab_type": "code",
        "outputId": "e2c37ff6-9db2-42ac-8e59-4e83de738fdc",
        "colab": {
          "base_uri": "https://localhost:8080/",
          "height": 71
        }
      },
      "source": [
        "a[0]\n",
        "a[3]   # 문자열 리스트 출력\n",
        "a[-1]  # 제일 뒤에 있는 리스트 출력\n",
        "print(a[0])\n",
        "print(a[3])\n",
        "print(a[-1])"
      ],
      "execution_count": 0,
      "outputs": [
        {
          "output_type": "stream",
          "text": [
            "1\n",
            "['a', 'b', 'c']\n",
            "['a', 'b', 'c']\n"
          ],
          "name": "stdout"
        }
      ]
    },
    {
      "cell_type": "markdown",
      "metadata": {
        "id": "bpn91IyNcesl",
        "colab_type": "text"
      },
      "source": [
        "chaek this: a[0] + a[-1] -> TypeError (정수와 문자열을 더할 수 있는 법은 없다)\n",
        "\n",
        "Indexing inner list"
      ]
    },
    {
      "cell_type": "code",
      "metadata": {
        "id": "nrUdFsRsck9A",
        "colab_type": "code",
        "outputId": "b464073a-c70b-48d0-f11a-a7bc56b0b1c1",
        "colab": {
          "base_uri": "https://localhost:8080/",
          "height": 172
        }
      },
      "source": [
        "a[0] + a[-1]"
      ],
      "execution_count": 0,
      "outputs": [
        {
          "output_type": "error",
          "ename": "TypeError",
          "evalue": "ignored",
          "traceback": [
            "\u001b[0;31m---------------------------------------------------------------------------\u001b[0m",
            "\u001b[0;31mTypeError\u001b[0m                                 Traceback (most recent call last)",
            "\u001b[0;32m<ipython-input-22-e6f4bd56be6b>\u001b[0m in \u001b[0;36m<module>\u001b[0;34m()\u001b[0m\n\u001b[0;32m----> 1\u001b[0;31m \u001b[0ma\u001b[0m\u001b[0;34m[\u001b[0m\u001b[0;36m0\u001b[0m\u001b[0;34m]\u001b[0m \u001b[0;34m+\u001b[0m \u001b[0ma\u001b[0m\u001b[0;34m[\u001b[0m\u001b[0;34m-\u001b[0m\u001b[0;36m1\u001b[0m\u001b[0;34m]\u001b[0m\u001b[0;34m\u001b[0m\u001b[0;34m\u001b[0m\u001b[0m\n\u001b[0m",
            "\u001b[0;31mTypeError\u001b[0m: unsupported operand type(s) for +: 'int' and 'list'"
          ]
        }
      ]
    },
    {
      "cell_type": "code",
      "metadata": {
        "id": "DQghEW-cccjA",
        "colab_type": "code",
        "outputId": "5cf8b409-3b9c-46b1-99e0-3918297462f3",
        "colab": {
          "base_uri": "https://localhost:8080/",
          "height": 35
        }
      },
      "source": [
        "a[-1][0]  # a의 마지막에 있는 리스트의 0번째 값출력"
      ],
      "execution_count": 0,
      "outputs": [
        {
          "output_type": "execute_result",
          "data": {
            "text/plain": [
              "'a'"
            ]
          },
          "metadata": {
            "tags": []
          },
          "execution_count": 29
        }
      ]
    },
    {
      "cell_type": "code",
      "metadata": {
        "id": "CD1FG2lBdDu3",
        "colab_type": "code",
        "outputId": "d68712ae-2daf-44b5-d2e1-f4181fee036a",
        "colab": {
          "base_uri": "https://localhost:8080/",
          "height": 35
        }
      },
      "source": [
        "a[-1][-1]   # a의 마지막에 있는 리스트의 마지막 값 출력"
      ],
      "execution_count": 0,
      "outputs": [
        {
          "output_type": "execute_result",
          "data": {
            "text/plain": [
              "'c'"
            ]
          },
          "metadata": {
            "tags": []
          },
          "execution_count": 30
        }
      ]
    },
    {
      "cell_type": "markdown",
      "metadata": {
        "id": "TxPrUBYzdSde",
        "colab_type": "text"
      },
      "source": [
        "Indexing of triple list\n",
        "\n",
        "삼중 리스트에서 인덱싱하기"
      ]
    },
    {
      "cell_type": "code",
      "metadata": {
        "id": "3RZQsXI_dcFW",
        "colab_type": "code",
        "outputId": "1eacd57c-05bb-4f48-ab99-6e167590f2b1",
        "colab": {
          "base_uri": "https://localhost:8080/",
          "height": 35
        }
      },
      "source": [
        "a = [1, 2, ['a', 'b', ['Life', 'is']]]\n",
        "a"
      ],
      "execution_count": 0,
      "outputs": [
        {
          "output_type": "execute_result",
          "data": {
            "text/plain": [
              "[1, 2, ['a', 'b', ['Life', 'is']]]"
            ]
          },
          "metadata": {
            "tags": []
          },
          "execution_count": 31
        }
      ]
    },
    {
      "cell_type": "code",
      "metadata": {
        "id": "ryJ5HxXfd2M9",
        "colab_type": "code",
        "outputId": "b65a70c8-1ff7-4fdd-cbd6-9ee558d8692d",
        "colab": {
          "base_uri": "https://localhost:8080/",
          "height": 71
        }
      },
      "source": [
        "a[2]\n",
        "a[2][-1]\n",
        "a[2][-1][0]   # 'Life'\n",
        "\n",
        "print(a[2])\n",
        "print((a[2][-1]))\n",
        "print((a[2][-1][0]))"
      ],
      "execution_count": 0,
      "outputs": [
        {
          "output_type": "stream",
          "text": [
            "['a', 'b', ['Life', 'is']]\n",
            "['Life', 'is']\n",
            "Life\n"
          ],
          "name": "stdout"
        }
      ]
    },
    {
      "cell_type": "markdown",
      "metadata": {
        "id": "8F3lj0tzk3RI",
        "colab_type": "text"
      },
      "source": [
        "리스트의 슬라이싱"
      ]
    },
    {
      "cell_type": "code",
      "metadata": {
        "id": "iBj_0N_6k-X3",
        "colab_type": "code",
        "outputId": "f35e09fa-d631-4657-be83-1259d31b3982",
        "colab": {
          "base_uri": "https://localhost:8080/",
          "height": 35
        }
      },
      "source": [
        "a = [1, 2, 3, 4, 5]\n",
        "a[0:2]  # a[0:n] ---> n전까지만 출력"
      ],
      "execution_count": 0,
      "outputs": [
        {
          "output_type": "execute_result",
          "data": {
            "text/plain": [
              "[1, 2]"
            ]
          },
          "metadata": {
            "tags": []
          },
          "execution_count": 34
        }
      ]
    },
    {
      "cell_type": "code",
      "metadata": {
        "id": "9H6HfXPRlCfQ",
        "colab_type": "code",
        "outputId": "b336e6b5-b291-4516-fdf3-139f6ed32d00",
        "colab": {
          "base_uri": "https://localhost:8080/",
          "height": 35
        }
      },
      "source": [
        "a = \"12345\"\n",
        "a[0:2]  # a[0:n] ---> n전까지만 출력"
      ],
      "execution_count": 0,
      "outputs": [
        {
          "output_type": "execute_result",
          "data": {
            "text/plain": [
              "'12'"
            ]
          },
          "metadata": {
            "tags": []
          },
          "execution_count": 35
        }
      ]
    },
    {
      "cell_type": "code",
      "metadata": {
        "id": "Tar6DeNPlHEH",
        "colab_type": "code",
        "outputId": "23dec366-4e6f-448c-8732-51141954b220",
        "colab": {
          "base_uri": "https://localhost:8080/",
          "height": 71
        }
      },
      "source": [
        "a = [1, 2, 3, 4, 5]\n",
        "a[0:2]\n",
        "a[2:]  # a[n:] ---> n부터 끝까지 출력\n",
        "a[0:4:2]  # a[start:end:step]\n",
        "\n",
        "print(\"a[0:2] = \",a[0:2])\n",
        "print(\"a[2:] = \",a[2:])\n",
        "print(\"a[0:4:2] = \",a[0:4:2])"
      ],
      "execution_count": 0,
      "outputs": [
        {
          "output_type": "stream",
          "text": [
            "a[0:2] =  [1, 2]\n",
            "a[2:] =  [3, 4, 5]\n",
            "a[0:4:2] =  [1, 3]\n"
          ],
          "name": "stdout"
        }
      ]
    },
    {
      "cell_type": "markdown",
      "metadata": {
        "id": "fVcSErqqlqym",
        "colab_type": "text"
      },
      "source": [
        "중첩된 리스트에서 슬라이싱하기"
      ]
    },
    {
      "cell_type": "code",
      "metadata": {
        "id": "o9PvPRfEloxu",
        "colab_type": "code",
        "outputId": "2a808314-3598-49ab-cc39-3e246881ff58",
        "colab": {
          "base_uri": "https://localhost:8080/",
          "height": 71
        }
      },
      "source": [
        "a = [1, 2, 3, ['a', 'b', 'c'], 4, 5]\n",
        "a[2:5]\n",
        "a[3][:2]\n",
        "\n",
        "print(\"a = \",a)\n",
        "print(\"a[2:5] = \",a[2:5])\n",
        "print(\"a[3][:2] = \",(a[3][:2]))"
      ],
      "execution_count": 0,
      "outputs": [
        {
          "output_type": "stream",
          "text": [
            "a =  [1, 2, 3, ['a', 'b', 'c'], 4, 5]\n",
            "a[2:5] =  [3, ['a', 'b', 'c'], 4]\n",
            "a[3][:2] =  ['a', 'b']\n"
          ],
          "name": "stdout"
        }
      ]
    },
    {
      "cell_type": "markdown",
      "metadata": {
        "id": "4MO0AvzUmM6G",
        "colab_type": "text"
      },
      "source": [
        "리스트: 인덱싱, 슬라이싱 연습"
      ]
    },
    {
      "cell_type": "code",
      "metadata": {
        "id": "MnDB3J2HmRoY",
        "colab_type": "code",
        "outputId": "88634788-f809-4061-f25d-9df416502959",
        "colab": {
          "base_uri": "https://localhost:8080/",
          "height": 179
        }
      },
      "source": [
        "x = [1, 2, 3, 4, 5, 6, 7, 8, 9]\n",
        "x[0:3]\n",
        "x[3:]\n",
        "x[:6]\n",
        "x[0:6:2]  # x[:6:2]\n",
        "x[-1]\n",
        "x[-3]\n",
        "x[:-3]\n",
        "x[::-1]   # 처음부터 끝까지인데 step이 -1이면 반대로 끝에서 부터 처음까지\n",
        "x[-3::-1]  # 7부터 끝까지 반대로\n",
        "\n",
        "print(\"x[0:3] = \",x[0:3])\n",
        "print(\"x[3:] = \",x[3:])\n",
        "print(\"x[:6] = \",x[:6])\n",
        "print(\"x[0:6:2] = \",x[0:6:2])\n",
        "print(\"x[-1] = \",x[-1])\n",
        "print(\"x[-3] = \",x[-3])\n",
        "print(\"x[:-3] = \",x[:-3])\n",
        "print(\"x[::-1] = \",x[::-1])\n",
        "print(\"x[-3::-1] = \",x[-3::-1])"
      ],
      "execution_count": 0,
      "outputs": [
        {
          "output_type": "stream",
          "text": [
            "x[0:3] =  [1, 2, 3]\n",
            "x[3:] =  [4, 5, 6, 7, 8, 9]\n",
            "x[:6] =  [1, 2, 3, 4, 5, 6]\n",
            "x[0:6:2] =  [1, 3, 5]\n",
            "x[-1] =  9\n",
            "x[-3] =  7\n",
            "x[:-3] =  [1, 2, 3, 4, 5, 6]\n",
            "x[::-1] =  [9, 8, 7, 6, 5, 4, 3, 2, 1]\n",
            "x[-3::-1] =  [7, 6, 5, 4, 3, 2, 1]\n"
          ],
          "name": "stdout"
        }
      ]
    },
    {
      "cell_type": "markdown",
      "metadata": {
        "id": "9-adK1JonF3m",
        "colab_type": "text"
      },
      "source": [
        "리스트 연산하기"
      ]
    },
    {
      "cell_type": "markdown",
      "metadata": {
        "id": "rGoyVe-TnJgE",
        "colab_type": "text"
      },
      "source": [
        "----------------------"
      ]
    },
    {
      "cell_type": "markdown",
      "metadata": {
        "id": "hv4ZaEkQnKuM",
        "colab_type": "text"
      },
      "source": [
        " 리스트 더하기(+)"
      ]
    },
    {
      "cell_type": "code",
      "metadata": {
        "id": "FfWDekscnRfT",
        "colab_type": "code",
        "outputId": "56d7511c-6166-4f40-9842-971778a4f782",
        "colab": {
          "base_uri": "https://localhost:8080/",
          "height": 71
        }
      },
      "source": [
        "a = [1, 2, 3]\n",
        "b = [4, 5, 6]\n",
        "a + b # 리스트 확장\n",
        "\n",
        "print(\"a = \",a)\n",
        "print(\"b = \",b)\n",
        "print(\"a + b = \",a + b)"
      ],
      "execution_count": 0,
      "outputs": [
        {
          "output_type": "stream",
          "text": [
            "a =  [1, 2, 3]\n",
            "b =  [4, 5, 6]\n",
            "a + b =  [1, 2, 3, 4, 5, 6]\n"
          ],
          "name": "stdout"
        }
      ]
    },
    {
      "cell_type": "markdown",
      "metadata": {
        "id": "XPI__67-nhbb",
        "colab_type": "text"
      },
      "source": [
        "리스트 반복하기(*)"
      ]
    },
    {
      "cell_type": "code",
      "metadata": {
        "id": "pZ_zKlQDnjRn",
        "colab_type": "code",
        "outputId": "8d0e8873-76ae-4c40-ec9d-f6ef5bbca3de",
        "colab": {
          "base_uri": "https://localhost:8080/",
          "height": 35
        }
      },
      "source": [
        "print(\"a * 3 = \",a * 3) # a가 3번 반복해서 확장\n"
      ],
      "execution_count": 0,
      "outputs": [
        {
          "output_type": "stream",
          "text": [
            "a * 3 =  [1, 2, 3, 1, 2, 3, 1, 2, 3]\n"
          ],
          "name": "stdout"
        }
      ]
    },
    {
      "cell_type": "markdown",
      "metadata": {
        "id": "S0FEkMhanmNL",
        "colab_type": "text"
      },
      "source": [
        "리스트 길이구하기"
      ]
    },
    {
      "cell_type": "code",
      "metadata": {
        "id": "mfbIrvRonopk",
        "colab_type": "code",
        "outputId": "f98cab03-dc2a-47b4-e70a-0f65d55406b9",
        "colab": {
          "base_uri": "https://localhost:8080/",
          "height": 35
        }
      },
      "source": [
        "print(\"len(a) = \",len(a))"
      ],
      "execution_count": 0,
      "outputs": [
        {
          "output_type": "stream",
          "text": [
            "len(a) =  3\n"
          ],
          "name": "stdout"
        }
      ]
    },
    {
      "cell_type": "markdown",
      "metadata": {
        "id": "fY1uYD8mn5UK",
        "colab_type": "text"
      },
      "source": [
        "초보자가 범하기 쉬운 리스트 연산 오류"
      ]
    },
    {
      "cell_type": "code",
      "metadata": {
        "id": "hplIDAFsn8CM",
        "colab_type": "code",
        "outputId": "0e86806d-9657-4365-e970-91519410e1c8",
        "colab": {
          "base_uri": "https://localhost:8080/",
          "height": 35
        }
      },
      "source": [
        "a = [1, 2, 3]\n",
        "print(\"a = \",a)"
      ],
      "execution_count": 0,
      "outputs": [
        {
          "output_type": "stream",
          "text": [
            "a =  [1, 2, 3]\n"
          ],
          "name": "stdout"
        }
      ]
    },
    {
      "cell_type": "code",
      "metadata": {
        "id": "2UMaal5MoUoL",
        "colab_type": "code",
        "outputId": "22a0f0f6-4614-477d-ea81-38ee7bfd2eb3",
        "colab": {
          "base_uri": "https://localhost:8080/",
          "height": 172
        }
      },
      "source": [
        "a[2] + \"hi\"   # 정수형 문자열끼리 연산 오류"
      ],
      "execution_count": 0,
      "outputs": [
        {
          "output_type": "error",
          "ename": "TypeError",
          "evalue": "ignored",
          "traceback": [
            "\u001b[0;31m---------------------------------------------------------------------------\u001b[0m",
            "\u001b[0;31mTypeError\u001b[0m                                 Traceback (most recent call last)",
            "\u001b[0;32m<ipython-input-49-ed067894c310>\u001b[0m in \u001b[0;36m<module>\u001b[0;34m()\u001b[0m\n\u001b[0;32m----> 1\u001b[0;31m \u001b[0ma\u001b[0m\u001b[0;34m[\u001b[0m\u001b[0;36m2\u001b[0m\u001b[0;34m]\u001b[0m \u001b[0;34m+\u001b[0m \u001b[0;34m\"hi\"\u001b[0m   \u001b[0;31m# 정수형 문자열끼리 연산 오류\u001b[0m\u001b[0;34m\u001b[0m\u001b[0;34m\u001b[0m\u001b[0m\n\u001b[0m",
            "\u001b[0;31mTypeError\u001b[0m: unsupported operand type(s) for +: 'int' and 'str'"
          ]
        }
      ]
    },
    {
      "cell_type": "code",
      "metadata": {
        "id": "ZFSzH-fZoV1Z",
        "colab_type": "code",
        "outputId": "34a5be1e-1d27-4c8b-fd3d-468e36b8cd07",
        "colab": {
          "base_uri": "https://localhost:8080/",
          "height": 35
        }
      },
      "source": [
        "str(a[2]) + \"hi\"  # 해결법 ----> 스트링형으로 바꾼후 연산"
      ],
      "execution_count": 0,
      "outputs": [
        {
          "output_type": "execute_result",
          "data": {
            "text/plain": [
              "'3hi'"
            ]
          },
          "metadata": {
            "tags": []
          },
          "execution_count": 51
        }
      ]
    },
    {
      "cell_type": "markdown",
      "metadata": {
        "id": "2l4szNUUonMh",
        "colab_type": "text"
      },
      "source": [
        "리스트의 수정과 삭제"
      ]
    },
    {
      "cell_type": "code",
      "metadata": {
        "id": "hgOiLlkeop5R",
        "colab_type": "code",
        "outputId": "50d8bcfc-bf12-4da7-a630-96fcddf6297a",
        "colab": {
          "base_uri": "https://localhost:8080/",
          "height": 35
        }
      },
      "source": [
        "a = [1, 2, 3]\n",
        "a"
      ],
      "execution_count": 0,
      "outputs": [
        {
          "output_type": "execute_result",
          "data": {
            "text/plain": [
              "[1, 2, 3]"
            ]
          },
          "metadata": {
            "tags": []
          },
          "execution_count": 53
        }
      ]
    },
    {
      "cell_type": "code",
      "metadata": {
        "id": "IFezz7oFozwB",
        "colab_type": "code",
        "outputId": "8c60a259-57c9-46d2-82d0-b9643bfa936d",
        "colab": {
          "base_uri": "https://localhost:8080/",
          "height": 35
        }
      },
      "source": [
        "a[2] = 4  # list is mutable!!! ---> 가변형이라서 잘 바뀜\n",
        "a"
      ],
      "execution_count": 0,
      "outputs": [
        {
          "output_type": "execute_result",
          "data": {
            "text/plain": [
              "[1, 2, 4]"
            ]
          },
          "metadata": {
            "tags": []
          },
          "execution_count": 55
        }
      ]
    },
    {
      "cell_type": "markdown",
      "metadata": {
        "id": "gFN6_DTGo4aB",
        "colab_type": "text"
      },
      "source": [
        "del 함수 사용해 리스트 요소 삭제하기"
      ]
    },
    {
      "cell_type": "code",
      "metadata": {
        "id": "DPvj6FSYo7rp",
        "colab_type": "code",
        "outputId": "7d1d31c7-3ded-4c5b-95f1-29392710dc5f",
        "colab": {
          "base_uri": "https://localhost:8080/",
          "height": 35
        }
      },
      "source": [
        "a = [1, 2, 3]\n",
        "a"
      ],
      "execution_count": 0,
      "outputs": [
        {
          "output_type": "execute_result",
          "data": {
            "text/plain": [
              "[1, 2, 3]"
            ]
          },
          "metadata": {
            "tags": []
          },
          "execution_count": 56
        }
      ]
    },
    {
      "cell_type": "code",
      "metadata": {
        "id": "1Z21-onTo9qY",
        "colab_type": "code",
        "outputId": "9cf8cd04-2392-4e89-e134-792a97c15952",
        "colab": {
          "base_uri": "https://localhost:8080/",
          "height": 35
        }
      },
      "source": [
        "del a[1]   # []안의 값은 인덱스값 (정수 1이 아님)\n",
        "a"
      ],
      "execution_count": 0,
      "outputs": [
        {
          "output_type": "execute_result",
          "data": {
            "text/plain": [
              "[1, 3]"
            ]
          },
          "metadata": {
            "tags": []
          },
          "execution_count": 57
        }
      ]
    },
    {
      "cell_type": "code",
      "metadata": {
        "id": "9hCF2LUmpAfX",
        "colab_type": "code",
        "outputId": "3f29c901-3bd1-45f9-8b19-c3d68658a47e",
        "colab": {
          "base_uri": "https://localhost:8080/",
          "height": 35
        }
      },
      "source": [
        "a = [1, 2, 3, 4, 5]\n",
        "a"
      ],
      "execution_count": 0,
      "outputs": [
        {
          "output_type": "execute_result",
          "data": {
            "text/plain": [
              "[1, 2, 3, 4, 5]"
            ]
          },
          "metadata": {
            "tags": []
          },
          "execution_count": 58
        }
      ]
    },
    {
      "cell_type": "code",
      "metadata": {
        "id": "tzPWvYdwpBvK",
        "colab_type": "code",
        "outputId": "837d4765-ce2d-4ffc-db61-2fab487b8299",
        "colab": {
          "base_uri": "https://localhost:8080/",
          "height": 35
        }
      },
      "source": [
        "del a[2:]\n",
        "a"
      ],
      "execution_count": 0,
      "outputs": [
        {
          "output_type": "execute_result",
          "data": {
            "text/plain": [
              "[1, 2]"
            ]
          },
          "metadata": {
            "tags": []
          },
          "execution_count": 59
        }
      ]
    },
    {
      "cell_type": "markdown",
      "metadata": {
        "id": "zl59PxDPpEHV",
        "colab_type": "text"
      },
      "source": [
        "#리스트 내부함수 이용"
      ]
    },
    {
      "cell_type": "markdown",
      "metadata": {
        "id": "uSXhKcLBpUbg",
        "colab_type": "text"
      },
      "source": [
        "리스트에 요소 추가(append)"
      ]
    },
    {
      "cell_type": "code",
      "metadata": {
        "id": "PKnC6NvBpXN4",
        "colab_type": "code",
        "outputId": "d43bf560-31bd-4f19-ee6c-8fee7c0399ec",
        "colab": {
          "base_uri": "https://localhost:8080/",
          "height": 35
        }
      },
      "source": [
        "a = [1, 2, 3]\n",
        "a.append(4)  # 리스트에 요소 추가\n",
        "a"
      ],
      "execution_count": 0,
      "outputs": [
        {
          "output_type": "execute_result",
          "data": {
            "text/plain": [
              "[1, 2, 3, 4]"
            ]
          },
          "metadata": {
            "tags": []
          },
          "execution_count": 60
        }
      ]
    },
    {
      "cell_type": "markdown",
      "metadata": {
        "id": "mJxLRfDqpaip",
        "colab_type": "text"
      },
      "source": [
        "리스트 안에는 어떤 자료형도 추가할 수 있다.\n",
        "\n",
        "리스트에 다시 리스트를 추가한 결과"
      ]
    },
    {
      "cell_type": "code",
      "metadata": {
        "id": "XOkwYmKgpdMP",
        "colab_type": "code",
        "outputId": "bf739e95-95ea-439d-95e2-e34788d8f9fc",
        "colab": {
          "base_uri": "https://localhost:8080/",
          "height": 35
        }
      },
      "source": [
        "a.append([5, 6]) # 2차원 리스트로 추가된다.\n",
        "a"
      ],
      "execution_count": 0,
      "outputs": [
        {
          "output_type": "execute_result",
          "data": {
            "text/plain": [
              "[1, 2, 3, 4, [5, 6]]"
            ]
          },
          "metadata": {
            "tags": []
          },
          "execution_count": 61
        }
      ]
    },
    {
      "cell_type": "markdown",
      "metadata": {
        "id": "eMFzLxSPpg7x",
        "colab_type": "text"
      },
      "source": [
        "리스트 정렬(sort)"
      ]
    },
    {
      "cell_type": "code",
      "metadata": {
        "id": "ZnrbiqDgplbn",
        "colab_type": "code",
        "outputId": "a56c5ef7-6218-4ec8-fa8f-ed101558ae48",
        "colab": {
          "base_uri": "https://localhost:8080/",
          "height": 35
        }
      },
      "source": [
        "a = [1, 4, 3, 2]\n",
        "a.sort()  #자동으로 정렬됨\n",
        "a"
      ],
      "execution_count": 0,
      "outputs": [
        {
          "output_type": "execute_result",
          "data": {
            "text/plain": [
              "[1, 2, 3, 4]"
            ]
          },
          "metadata": {
            "tags": []
          },
          "execution_count": 62
        }
      ]
    },
    {
      "cell_type": "code",
      "metadata": {
        "id": "zrux0Llkpomq",
        "colab_type": "code",
        "outputId": "7b79209d-9b2a-42e7-9298-8a5b23cf3121",
        "colab": {
          "base_uri": "https://localhost:8080/",
          "height": 35
        }
      },
      "source": [
        "s = [\"a\", \"c\", \"b\"]\n",
        "s.sort()    #자동으로 정렬됨\n",
        "s"
      ],
      "execution_count": 0,
      "outputs": [
        {
          "output_type": "execute_result",
          "data": {
            "text/plain": [
              "['a', 'b', 'c']"
            ]
          },
          "metadata": {
            "tags": []
          },
          "execution_count": 63
        }
      ]
    },
    {
      "cell_type": "markdown",
      "metadata": {
        "id": "HvgIuTZBpqaQ",
        "colab_type": "text"
      },
      "source": [
        "리스트 뒤집기(reverse)"
      ]
    },
    {
      "cell_type": "code",
      "metadata": {
        "id": "fgjg-2urpsDn",
        "colab_type": "code",
        "outputId": "b06c3be8-8c41-4950-cab1-27e4e3794096",
        "colab": {
          "base_uri": "https://localhost:8080/",
          "height": 35
        }
      },
      "source": [
        "a = [\"a\", \"c\", \"b\"]\n",
        "a.reverse()    #순서를 뒤집는다.\n",
        "a"
      ],
      "execution_count": 0,
      "outputs": [
        {
          "output_type": "execute_result",
          "data": {
            "text/plain": [
              "['b', 'c', 'a']"
            ]
          },
          "metadata": {
            "tags": []
          },
          "execution_count": 64
        }
      ]
    },
    {
      "cell_type": "markdown",
      "metadata": {
        "id": "hsVG6UCcpuY4",
        "colab_type": "text"
      },
      "source": [
        "위치 반환(index)"
      ]
    },
    {
      "cell_type": "code",
      "metadata": {
        "id": "HH_dIXe1px7g",
        "colab_type": "code",
        "outputId": "33c94666-7d04-41c7-a40e-756744a27e2c",
        "colab": {
          "base_uri": "https://localhost:8080/",
          "height": 53
        }
      },
      "source": [
        "a = [1, 2, 3]\n",
        "print(\"a.indes(3) = \",a.index(3))  # 3은 인덱스값\n",
        "print(\"a.indes(1) = \",a.index(1))"
      ],
      "execution_count": 0,
      "outputs": [
        {
          "output_type": "stream",
          "text": [
            "a.indes(3) =  2\n",
            "a.indes(1) =  0\n"
          ],
          "name": "stdout"
        }
      ]
    },
    {
      "cell_type": "code",
      "metadata": {
        "id": "dRsRmOSNp3jO",
        "colab_type": "code",
        "outputId": "ac9eca8e-27a1-43e9-bd3b-b7e48fd189b5",
        "colab": {
          "base_uri": "https://localhost:8080/",
          "height": 172
        }
      },
      "source": [
        "a.index(0) # 리스트에 없는 0은 ValueError가 난다."
      ],
      "execution_count": 0,
      "outputs": [
        {
          "output_type": "error",
          "ename": "ValueError",
          "evalue": "ignored",
          "traceback": [
            "\u001b[0;31m---------------------------------------------------------------------------\u001b[0m",
            "\u001b[0;31mValueError\u001b[0m                                Traceback (most recent call last)",
            "\u001b[0;32m<ipython-input-67-97b650d89f07>\u001b[0m in \u001b[0;36m<module>\u001b[0;34m()\u001b[0m\n\u001b[0;32m----> 1\u001b[0;31m \u001b[0ma\u001b[0m\u001b[0;34m.\u001b[0m\u001b[0mindex\u001b[0m\u001b[0;34m(\u001b[0m\u001b[0;36m0\u001b[0m\u001b[0;34m)\u001b[0m \u001b[0;31m# 리스트에 없는 0은 ValueError가 난다.\u001b[0m\u001b[0;34m\u001b[0m\u001b[0;34m\u001b[0m\u001b[0m\n\u001b[0m",
            "\u001b[0;31mValueError\u001b[0m: 0 is not in list"
          ]
        }
      ]
    },
    {
      "cell_type": "code",
      "metadata": {
        "id": "SlMCrGzkqJ3W",
        "colab_type": "code",
        "outputId": "015e889f-8cbb-438b-b02a-51756137ccc4",
        "colab": {
          "base_uri": "https://localhost:8080/",
          "height": 190
        }
      },
      "source": [
        "s = [\"a\", \"c\", \"b\"]\n",
        "s.index(3)  # Error ----> 리스트에 없는 3은 ValueError가 난다."
      ],
      "execution_count": 0,
      "outputs": [
        {
          "output_type": "error",
          "ename": "ValueError",
          "evalue": "ignored",
          "traceback": [
            "\u001b[0;31m---------------------------------------------------------------------------\u001b[0m",
            "\u001b[0;31mValueError\u001b[0m                                Traceback (most recent call last)",
            "\u001b[0;32m<ipython-input-68-e1fed88b34cb>\u001b[0m in \u001b[0;36m<module>\u001b[0;34m()\u001b[0m\n\u001b[1;32m      1\u001b[0m \u001b[0ms\u001b[0m \u001b[0;34m=\u001b[0m \u001b[0;34m[\u001b[0m\u001b[0;34m\"a\"\u001b[0m\u001b[0;34m,\u001b[0m \u001b[0;34m\"c\"\u001b[0m\u001b[0;34m,\u001b[0m \u001b[0;34m\"b\"\u001b[0m\u001b[0;34m]\u001b[0m\u001b[0;34m\u001b[0m\u001b[0;34m\u001b[0m\u001b[0m\n\u001b[0;32m----> 2\u001b[0;31m \u001b[0ms\u001b[0m\u001b[0;34m.\u001b[0m\u001b[0mindex\u001b[0m\u001b[0;34m(\u001b[0m\u001b[0;36m3\u001b[0m\u001b[0;34m)\u001b[0m  \u001b[0;31m# Error ----> 리스트에 없는 3은 ValueError가 난다.\u001b[0m\u001b[0;34m\u001b[0m\u001b[0;34m\u001b[0m\u001b[0m\n\u001b[0m",
            "\u001b[0;31mValueError\u001b[0m: 3 is not in list"
          ]
        }
      ]
    },
    {
      "cell_type": "code",
      "metadata": {
        "id": "mZ1OpibrqPuj",
        "colab_type": "code",
        "outputId": "57d335f4-ec05-4e6c-b14f-7d51e80e6c6d",
        "colab": {
          "base_uri": "https://localhost:8080/",
          "height": 172
        }
      },
      "source": [
        "s.index(a)  # Error "
      ],
      "execution_count": 0,
      "outputs": [
        {
          "output_type": "error",
          "ename": "ValueError",
          "evalue": "ignored",
          "traceback": [
            "\u001b[0;31m---------------------------------------------------------------------------\u001b[0m",
            "\u001b[0;31mValueError\u001b[0m                                Traceback (most recent call last)",
            "\u001b[0;32m<ipython-input-69-3d8336c532d3>\u001b[0m in \u001b[0;36m<module>\u001b[0;34m()\u001b[0m\n\u001b[0;32m----> 1\u001b[0;31m \u001b[0ms\u001b[0m\u001b[0;34m.\u001b[0m\u001b[0mindex\u001b[0m\u001b[0;34m(\u001b[0m\u001b[0ma\u001b[0m\u001b[0;34m)\u001b[0m  \u001b[0;31m# Error\u001b[0m\u001b[0;34m\u001b[0m\u001b[0;34m\u001b[0m\u001b[0m\n\u001b[0m",
            "\u001b[0;31mValueError\u001b[0m: [1, 2, 3] is not in list"
          ]
        }
      ]
    },
    {
      "cell_type": "code",
      "metadata": {
        "id": "ZaN9e8jzqSIN",
        "colab_type": "code",
        "outputId": "fda30621-88c8-448e-9a8f-6d23c66c1067",
        "colab": {
          "base_uri": "https://localhost:8080/",
          "height": 35
        }
      },
      "source": [
        "s.index(\"a\")  #---> \"\" , '' 결과 같음"
      ],
      "execution_count": 0,
      "outputs": [
        {
          "output_type": "execute_result",
          "data": {
            "text/plain": [
              "0"
            ]
          },
          "metadata": {
            "tags": []
          },
          "execution_count": 70
        }
      ]
    },
    {
      "cell_type": "markdown",
      "metadata": {
        "id": "rfiu-1HSqYHA",
        "colab_type": "text"
      },
      "source": [
        "리스트에 요소 삽입(insert)"
      ]
    },
    {
      "cell_type": "code",
      "metadata": {
        "id": "SxUlMo6eqaiW",
        "colab_type": "code",
        "outputId": "ea5f4436-fe0e-4bd7-a5b9-c77d5312e1a0",
        "colab": {
          "base_uri": "https://localhost:8080/",
          "height": 35
        }
      },
      "source": [
        "a = [1, 2, 3]\n",
        "a"
      ],
      "execution_count": 0,
      "outputs": [
        {
          "output_type": "execute_result",
          "data": {
            "text/plain": [
              "[1, 2, 3]"
            ]
          },
          "metadata": {
            "tags": []
          },
          "execution_count": 71
        }
      ]
    },
    {
      "cell_type": "code",
      "metadata": {
        "id": "UnCe-CVjqigt",
        "colab_type": "code",
        "outputId": "6d74d28d-744f-4277-9e34-162b3e880944",
        "colab": {
          "base_uri": "https://localhost:8080/",
          "height": 35
        }
      },
      "source": [
        "a.insert(0, 4) # 0번 인덱스 값 자리에 4 추가\n",
        "a"
      ],
      "execution_count": 0,
      "outputs": [
        {
          "output_type": "execute_result",
          "data": {
            "text/plain": [
              "[4, 1, 2, 3]"
            ]
          },
          "metadata": {
            "tags": []
          },
          "execution_count": 72
        }
      ]
    },
    {
      "cell_type": "code",
      "metadata": {
        "id": "tW2jdibyqf7F",
        "colab_type": "code",
        "outputId": "fd135d66-3b11-4c1f-ccaa-d6cc95384433",
        "colab": {
          "base_uri": "https://localhost:8080/",
          "height": 35
        }
      },
      "source": [
        "a.insert(3, 5) # 3번 인덱스 값자리에 5 추가하고 3은 4번 인덱스 값으로 밀려난다.\n",
        "a"
      ],
      "execution_count": 0,
      "outputs": [
        {
          "output_type": "execute_result",
          "data": {
            "text/plain": [
              "[4, 1, 2, 5, 3]"
            ]
          },
          "metadata": {
            "tags": []
          },
          "execution_count": 73
        }
      ]
    },
    {
      "cell_type": "markdown",
      "metadata": {
        "id": "L7kSwlgdqlkm",
        "colab_type": "text"
      },
      "source": [
        "리스트 요소 제거(remove)"
      ]
    },
    {
      "cell_type": "code",
      "metadata": {
        "id": "VfJ5xTOEqo-2",
        "colab_type": "code",
        "outputId": "9df3c37b-73ce-4b19-d049-2e58d28f8cc9",
        "colab": {
          "base_uri": "https://localhost:8080/",
          "height": 35
        }
      },
      "source": [
        "a = [1, 2, 3, 1, 2, 3]\n",
        "a"
      ],
      "execution_count": 0,
      "outputs": [
        {
          "output_type": "execute_result",
          "data": {
            "text/plain": [
              "[1, 2, 3, 1, 2, 3]"
            ]
          },
          "metadata": {
            "tags": []
          },
          "execution_count": 74
        }
      ]
    },
    {
      "cell_type": "code",
      "metadata": {
        "id": "j0_C8IoLqqW2",
        "colab_type": "code",
        "outputId": "c64abdfe-e043-466f-baed-a7fa0dbf92b7",
        "colab": {
          "base_uri": "https://localhost:8080/",
          "height": 35
        }
      },
      "source": [
        "a.remove(3)  # 제일 처음에 나오는 value값 3이 지워진다.\n",
        "a"
      ],
      "execution_count": 0,
      "outputs": [
        {
          "output_type": "execute_result",
          "data": {
            "text/plain": [
              "[1, 2, 1, 2, 3]"
            ]
          },
          "metadata": {
            "tags": []
          },
          "execution_count": 75
        }
      ]
    },
    {
      "cell_type": "markdown",
      "metadata": {
        "id": "U6D6zvbDqw7i",
        "colab_type": "text"
      },
      "source": [
        "3을 리스트 a에서 완전히 제거"
      ]
    },
    {
      "cell_type": "code",
      "metadata": {
        "id": "W4lcCDcgqylh",
        "colab_type": "code",
        "outputId": "3cb49539-7a5c-4749-da21-296ac932929e",
        "colab": {
          "base_uri": "https://localhost:8080/",
          "height": 35
        }
      },
      "source": [
        "a.remove(3)   # value값 3이 지워진다.\n",
        "a"
      ],
      "execution_count": 0,
      "outputs": [
        {
          "output_type": "execute_result",
          "data": {
            "text/plain": [
              "[1, 2, 1, 2]"
            ]
          },
          "metadata": {
            "tags": []
          },
          "execution_count": 76
        }
      ]
    },
    {
      "cell_type": "code",
      "metadata": {
        "id": "E_wQgXyqq0RM",
        "colab_type": "code",
        "outputId": "d10b9cf8-db3f-4114-93e5-1366ba8d91c7",
        "colab": {
          "base_uri": "https://localhost:8080/",
          "height": 190
        }
      },
      "source": [
        "\n",
        "a.remove(3)  # ValueError ---->없는걸 지우라고해서 에러남."
      ],
      "execution_count": 0,
      "outputs": [
        {
          "output_type": "error",
          "ename": "ValueError",
          "evalue": "ignored",
          "traceback": [
            "\u001b[0;31m---------------------------------------------------------------------------\u001b[0m",
            "\u001b[0;31mValueError\u001b[0m                                Traceback (most recent call last)",
            "\u001b[0;32m<ipython-input-78-df03ccd4c778>\u001b[0m in \u001b[0;36m<module>\u001b[0;34m()\u001b[0m\n\u001b[1;32m      1\u001b[0m \u001b[0;34m\u001b[0m\u001b[0m\n\u001b[0;32m----> 2\u001b[0;31m \u001b[0ma\u001b[0m\u001b[0;34m.\u001b[0m\u001b[0mremove\u001b[0m\u001b[0;34m(\u001b[0m\u001b[0;36m3\u001b[0m\u001b[0;34m)\u001b[0m  \u001b[0;31m# ValueError ---->없는걸 지우라고해서 에러남.\u001b[0m\u001b[0;34m\u001b[0m\u001b[0;34m\u001b[0m\u001b[0m\n\u001b[0m",
            "\u001b[0;31mValueError\u001b[0m: list.remove(x): x not in list"
          ]
        }
      ]
    },
    {
      "cell_type": "markdown",
      "metadata": {
        "id": "Y0i5q5_wq4G8",
        "colab_type": "text"
      },
      "source": [
        "리스트 요소 끄집어내기(pop)"
      ]
    },
    {
      "cell_type": "code",
      "metadata": {
        "id": "9h_pYNr9q8AI",
        "colab_type": "code",
        "outputId": "ec8a6331-f5b2-4a30-ab7f-c36e00c24c7a",
        "colab": {
          "base_uri": "https://localhost:8080/",
          "height": 35
        }
      },
      "source": [
        "a = [1, 2, 3]\n",
        "# pop()은 리스트의 맨 마지막 요소를 돌려주고 그 요소는 삭제한다.\n",
        "a.pop()"
      ],
      "execution_count": 0,
      "outputs": [
        {
          "output_type": "execute_result",
          "data": {
            "text/plain": [
              "3"
            ]
          },
          "metadata": {
            "tags": []
          },
          "execution_count": 80
        }
      ]
    },
    {
      "cell_type": "code",
      "metadata": {
        "id": "G431su7oq-_j",
        "colab_type": "code",
        "outputId": "3296a886-b564-4c12-882c-2f443cf6b0c7",
        "colab": {
          "base_uri": "https://localhost:8080/",
          "height": 35
        }
      },
      "source": [
        "a"
      ],
      "execution_count": 0,
      "outputs": [
        {
          "output_type": "execute_result",
          "data": {
            "text/plain": [
              "[1, 2]"
            ]
          },
          "metadata": {
            "tags": []
          },
          "execution_count": 81
        }
      ]
    },
    {
      "cell_type": "code",
      "metadata": {
        "id": "_788BAgVrFKF",
        "colab_type": "code",
        "outputId": "c9c65e1c-548d-4d80-f1e9-f541dc976a09",
        "colab": {
          "base_uri": "https://localhost:8080/",
          "height": 35
        }
      },
      "source": [
        "a = [1, 2, 3]\n",
        "# pop(x)는 리스트의 index가 x인 요소를 돌려주고 그 요소는 삭제한다.\n",
        "a.pop(1)  # 인덱스값 1에 있는 2를 돌려주고 2를 삭제한다.\n",
        "a"
      ],
      "execution_count": 0,
      "outputs": [
        {
          "output_type": "execute_result",
          "data": {
            "text/plain": [
              "[1, 3]"
            ]
          },
          "metadata": {
            "tags": []
          },
          "execution_count": 82
        }
      ]
    },
    {
      "cell_type": "code",
      "metadata": {
        "id": "J6qKhWYprIFy",
        "colab_type": "code",
        "outputId": "a36032bc-eaea-406e-8bdc-cffe43d185aa",
        "colab": {
          "base_uri": "https://localhost:8080/",
          "height": 172
        }
      },
      "source": [
        "a.pop(2)  # IndexError ----> 현재 인덱스값은 1까지라서 에러."
      ],
      "execution_count": 0,
      "outputs": [
        {
          "output_type": "error",
          "ename": "IndexError",
          "evalue": "ignored",
          "traceback": [
            "\u001b[0;31m---------------------------------------------------------------------------\u001b[0m",
            "\u001b[0;31mIndexError\u001b[0m                                Traceback (most recent call last)",
            "\u001b[0;32m<ipython-input-83-ab8320e93d2a>\u001b[0m in \u001b[0;36m<module>\u001b[0;34m()\u001b[0m\n\u001b[0;32m----> 1\u001b[0;31m \u001b[0ma\u001b[0m\u001b[0;34m.\u001b[0m\u001b[0mpop\u001b[0m\u001b[0;34m(\u001b[0m\u001b[0;36m2\u001b[0m\u001b[0;34m)\u001b[0m  \u001b[0;31m# IndexError ----> 현재 인덱스값은 1까지라서 에러.\u001b[0m\u001b[0;34m\u001b[0m\u001b[0;34m\u001b[0m\u001b[0m\n\u001b[0m",
            "\u001b[0;31mIndexError\u001b[0m: pop index out of range"
          ]
        }
      ]
    },
    {
      "cell_type": "markdown",
      "metadata": {
        "id": "c2D_nfijrK0E",
        "colab_type": "text"
      },
      "source": [
        "리스트에 포함된 요소 x의 개수 세기(count)"
      ]
    },
    {
      "cell_type": "code",
      "metadata": {
        "id": "wYJbL7YJrNvk",
        "colab_type": "code",
        "outputId": "fb936c87-569c-41f6-fc04-e7f2d7e96f5f",
        "colab": {
          "base_uri": "https://localhost:8080/",
          "height": 35
        }
      },
      "source": [
        "a = [1, 2, 3, 1]\n",
        "a.count(1)  # value값 1이 몇개인지 센다."
      ],
      "execution_count": 0,
      "outputs": [
        {
          "output_type": "execute_result",
          "data": {
            "text/plain": [
              "2"
            ]
          },
          "metadata": {
            "tags": []
          },
          "execution_count": 84
        }
      ]
    },
    {
      "cell_type": "markdown",
      "metadata": {
        "id": "xyjXwrTzrQCN",
        "colab_type": "text"
      },
      "source": [
        "리스트 확장(extend)"
      ]
    },
    {
      "cell_type": "code",
      "metadata": {
        "id": "cvl68rgxrSRM",
        "colab_type": "code",
        "outputId": "32ff60a4-ed31-4b1c-b028-ed7e36bd639e",
        "colab": {
          "base_uri": "https://localhost:8080/",
          "height": 35
        }
      },
      "source": [
        "a = [1, 2, 3]\n",
        "a.extend([4, 5]) # a.extend([4, 5])는 a += [4, 5]와 동일\n",
        "a  "
      ],
      "execution_count": 0,
      "outputs": [
        {
          "output_type": "execute_result",
          "data": {
            "text/plain": [
              "[1, 2, 3, 4, 5]"
            ]
          },
          "metadata": {
            "tags": []
          },
          "execution_count": 85
        }
      ]
    },
    {
      "cell_type": "code",
      "metadata": {
        "id": "muuWGGhhpLIP",
        "colab_type": "code",
        "outputId": "1d2f720a-8c15-4a60-9216-6bf8078c3d09",
        "colab": {
          "base_uri": "https://localhost:8080/",
          "height": 35
        }
      },
      "source": [
        "b = [6, 7]\n",
        "a.extend(b)\n",
        "a"
      ],
      "execution_count": 0,
      "outputs": [
        {
          "output_type": "execute_result",
          "data": {
            "text/plain": [
              "[1, 2, 3, 4, 5, 6, 7]"
            ]
          },
          "metadata": {
            "tags": []
          },
          "execution_count": 86
        }
      ]
    }
  ]
}