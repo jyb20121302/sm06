{
  "nbformat": 4,
  "nbformat_minor": 0,
  "metadata": {
    "colab": {
      "name": "sm06_ex01_hello.ipynb",
      "version": "0.3.2",
      "provenance": [],
      "collapsed_sections": [],
      "toc_visible": true,
      "include_colab_link": true
    },
    "kernelspec": {
      "name": "python3",
      "display_name": "Python 3"
    }
  },
  "cells": [
    {
      "cell_type": "markdown",
      "metadata": {
        "id": "view-in-github",
        "colab_type": "text"
      },
      "source": [
        "<a href=\"https://colab.research.google.com/github/jyb20121302/sm06/blob/master/sm06_ex01_hello.ipynb\" target=\"_parent\"><img src=\"https://colab.research.google.com/assets/colab-badge.svg\" alt=\"Open In Colab\"/></a>"
      ]
    },
    {
      "cell_type": "markdown",
      "metadata": {
        "id": "qexK0Zqldqm_",
        "colab_type": "text"
      },
      "source": [
        "## sm06 report 1"
      ]
    },
    {
      "cell_type": "code",
      "metadata": {
        "id": "uhIMtjSedhIu",
        "colab_type": "code",
        "colab": {
          "base_uri": "https://localhost:8080/",
          "height": 35
        },
        "outputId": "d304168a-079c-48f0-f404-07a0875c3d5f"
      },
      "source": [
        "a=1\n",
        "b=2\n",
        "c=a+b\n",
        "print(c)"
      ],
      "execution_count": 1,
      "outputs": [
        {
          "output_type": "stream",
          "text": [
            "3\n"
          ],
          "name": "stdout"
        }
      ]
    },
    {
      "cell_type": "markdown",
      "metadata": {
        "id": "dOQBou2Be2tl",
        "colab_type": "text"
      },
      "source": [
        "### 문자열 출력"
      ]
    },
    {
      "cell_type": "code",
      "metadata": {
        "id": "1hY0CAjyeN8D",
        "colab_type": "code",
        "colab": {
          "base_uri": "https://localhost:8080/",
          "height": 35
        },
        "outputId": "e2075508-81ca-4f02-945f-ca9c392599a2"
      },
      "source": [
        "############\n",
        "s1=\"Hello Python!\"\n",
        "print(s1)"
      ],
      "execution_count": 2,
      "outputs": [
        {
          "output_type": "stream",
          "text": [
            "Hello Python!\n"
          ],
          "name": "stdout"
        }
      ]
    },
    {
      "cell_type": "markdown",
      "metadata": {
        "id": "7RAyRvT9e9JE",
        "colab_type": "text"
      },
      "source": [
        "### list 선언과 출력"
      ]
    },
    {
      "cell_type": "code",
      "metadata": {
        "id": "s1mbLBKDebNV",
        "colab_type": "code",
        "colab": {
          "base_uri": "https://localhost:8080/",
          "height": 71
        },
        "outputId": "3c490cda-65c4-4884-9768-a0251fbba9e2"
      },
      "source": [
        "##############\n",
        "x=[1,2,3]\n",
        "y=[4,5,6]\n",
        "print(x)\n",
        "print(x,y)\n",
        "x+y"
      ],
      "execution_count": 3,
      "outputs": [
        {
          "output_type": "stream",
          "text": [
            "[1, 2, 3]\n",
            "[1, 2, 3] [4, 5, 6]\n"
          ],
          "name": "stdout"
        },
        {
          "output_type": "execute_result",
          "data": {
            "text/plain": [
              "[1, 2, 3, 4, 5, 6]"
            ]
          },
          "metadata": {
            "tags": []
          },
          "execution_count": 3
        }
      ]
    },
    {
      "cell_type": "markdown",
      "metadata": {
        "id": "AZsRZXIsfHq0",
        "colab_type": "text"
      },
      "source": [
        "### 함수 정의와 실행"
      ]
    },
    {
      "cell_type": "code",
      "metadata": {
        "id": "hjUyuQpaeg6F",
        "colab_type": "code",
        "colab": {
          "base_uri": "https://localhost:8080/",
          "height": 53
        },
        "outputId": "0d69339a-e31c-4929-e627-1a05f2fcb564"
      },
      "source": [
        "# function\n",
        "def add(a,b):\n",
        "    return a+b\n",
        "#\n",
        "print(add(1,2))\n",
        "print(add(x,y))"
      ],
      "execution_count": 5,
      "outputs": [
        {
          "output_type": "stream",
          "text": [
            "3\n",
            "[1, 2, 3, 4, 5, 6]\n"
          ],
          "name": "stdout"
        }
      ]
    }
  ]
}