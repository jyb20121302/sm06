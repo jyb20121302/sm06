{
  "nbformat": 4,
  "nbformat_minor": 0,
  "metadata": {
    "colab": {
      "name": "sm06_ch4_01_function.ipynb",
      "provenance": [],
      "collapsed_sections": [],
      "include_colab_link": true
    },
    "kernelspec": {
      "name": "python3",
      "display_name": "Python 3"
    }
  },
  "cells": [
    {
      "cell_type": "markdown",
      "metadata": {
        "id": "view-in-github",
        "colab_type": "text"
      },
      "source": [
        "<a href=\"https://colab.research.google.com/github/jyb20121302/sm06/blob/master/sm06_ch4_01_function.ipynb\" target=\"_parent\"><img src=\"https://colab.research.google.com/assets/colab-badge.svg\" alt=\"Open In Colab\"/></a>"
      ]
    },
    {
      "cell_type": "markdown",
      "metadata": {
        "id": "krG_1lFnZ-mO",
        "colab_type": "text"
      },
      "source": [
        "# ch4_01_function.py"
      ]
    },
    {
      "cell_type": "markdown",
      "metadata": {
        "id": "JXJzQp3kaNCf",
        "colab_type": "text"
      },
      "source": [
        "##함수란?\n",
        "\n",
        "입력값을 가지고 어떤 일을 수행한 다음에 그 결과물을 내어놓는 것"
      ]
    },
    {
      "cell_type": "markdown",
      "metadata": {
        "id": "1z-2MMLZabUy",
        "colab_type": "text"
      },
      "source": [
        "##함수를 사용하는 이유\n",
        "\n",
        "1. 반복되는 부분을 함수로 전환\n",
        "\n",
        "2. 코딩을 모듈화\n",
        "\n",
        "\n",
        "##파이썬 함수의 구조\n",
        "\n",
        "def 함수명(매개변수):\n",
        "\n",
        "    <수행할 문장1>\n",
        "    \n",
        "    <수행할 문장2>\n",
        "    \n",
        "    ...\n",
        "\"\"\"\n"
      ]
    },
    {
      "cell_type": "code",
      "metadata": {
        "id": "SD3jPHvkavP-",
        "colab_type": "code",
        "colab": {
          "base_uri": "https://localhost:8080/",
          "height": 34
        },
        "outputId": "48ababe3-8933-480d-9a26-65ff0bce267d"
      },
      "source": [
        "# add() 함수를 정의\n",
        "def add(a, b):    \n",
        "    return a + b\n",
        "\n",
        "\n",
        "add(2,3)"
      ],
      "execution_count": 2,
      "outputs": [
        {
          "output_type": "execute_result",
          "data": {
            "text/plain": [
              "5"
            ]
          },
          "metadata": {
            "tags": []
          },
          "execution_count": 2
        }
      ]
    },
    {
      "cell_type": "code",
      "metadata": {
        "id": "ITbnM0jha0QR",
        "colab_type": "code",
        "colab": {
          "base_uri": "https://localhost:8080/",
          "height": 34
        },
        "outputId": "de34593e-e2a4-4f9e-c0f8-43de429e001c"
      },
      "source": [
        "add(\"IJU\",\" COMSI\") ### list나 tuple도 가능 문자열도 가능"
      ],
      "execution_count": 3,
      "outputs": [
        {
          "output_type": "execute_result",
          "data": {
            "text/plain": [
              "'IJU COMSI'"
            ]
          },
          "metadata": {
            "tags": []
          },
          "execution_count": 3
        }
      ]
    },
    {
      "cell_type": "code",
      "metadata": {
        "id": "Tfjd-lhEbDS4",
        "colab_type": "code",
        "colab": {
          "base_uri": "https://localhost:8080/",
          "height": 34
        },
        "outputId": "5e59cf02-887e-4ec4-f130-f1ea230b5c2a"
      },
      "source": [
        "# add() 함수를 사용\n",
        "a=3\n",
        "b=4\n",
        "c=add(a,b)\n",
        "print(c)"
      ],
      "execution_count": 4,
      "outputs": [
        {
          "output_type": "stream",
          "text": [
            "7\n"
          ],
          "name": "stdout"
        }
      ]
    },
    {
      "cell_type": "code",
      "metadata": {
        "id": "Gb6MVvwFbLXQ",
        "colab_type": "code",
        "colab": {
          "base_uri": "https://localhost:8080/",
          "height": 34
        },
        "outputId": "f54ba227-ee5d-4d75-dbb0-3bbf285af8d0"
      },
      "source": [
        "x=[1,2,3]   ####list는 확장된다.\n",
        "y=[4,5,6]\n",
        "z=x+y\n",
        "print(z)    \n"
      ],
      "execution_count": 5,
      "outputs": [
        {
          "output_type": "stream",
          "text": [
            "[1, 2, 3, 4, 5, 6]\n"
          ],
          "name": "stdout"
        }
      ]
    },
    {
      "cell_type": "markdown",
      "metadata": {
        "id": "OZylX0JIbPWp",
        "colab_type": "text"
      },
      "source": [
        "#매개변수와 인수의 차이를 이해하자!\n",
        "\n",
        "매개변수는 함수에 입력으로 전달된 값을 받는 변수\n",
        "\n",
        "인수는 함수를 호출할 때 전달하는 입력값을 의미\n",
        "\n",
        "##add() 함수에서의 매개변수와 인수\n",
        "\"\"\"\n",
        "def add(a, b):  # a, b는 매개변수\n",
        "\n",
        "    return a+b\n",
        "\n",
        "print(add(3, 4))  # 3, 4는 인수\n",
        "\n",
        "\"\"\"\n",
        "\n",
        "#입력값과 결괏값에 따른 함수의 형태\n",
        "\n",
        "###입력값 ---> 함수 ----> 결괏값\n",
        "\n",
        "###일반적인 함수\n",
        "\n",
        "###입력값과 결괏값이 있는 함수\n",
        "\n",
        "\"\"\"\n",
        "\n",
        "def 함수이름(매개변수):\n",
        "\n",
        "    <수행할 문장>\n",
        "    ...\n",
        "    return 결과값\n",
        "\"\"\"\n"
      ]
    },
    {
      "cell_type": "code",
      "metadata": {
        "id": "-jJoJghZmH8m",
        "colab_type": "code",
        "colab": {
          "base_uri": "https://localhost:8080/",
          "height": 34
        },
        "outputId": "c284dc2d-9192-431a-a1a1-11ae7f31980e"
      },
      "source": [
        "def add2(a, b): ###함수는 동일한 함수명 사용 불가\n",
        "    result = a + b \n",
        "    return result\n",
        "\n",
        "\n",
        "# 입력값과 결괏값이 있는 함수의 사용법\n",
        "# 결괏값을 받을 변수 = 함수이름(입력인수1, 입력인수2, ...)\n",
        "a = add2(3, 4)\n",
        "print(a)\n"
      ],
      "execution_count": 10,
      "outputs": [
        {
          "output_type": "stream",
          "text": [
            "7\n"
          ],
          "name": "stdout"
        }
      ]
    },
    {
      "cell_type": "code",
      "metadata": {
        "id": "r-SUv2RgmdKV",
        "colab_type": "code",
        "colab": {
          "base_uri": "https://localhost:8080/",
          "height": 34
        },
        "outputId": "79ecea54-a0b2-4f25-d5c8-88caeaf188c8"
      },
      "source": [
        "# 입력값이 없는 함수\n",
        "def say(): ### 매개변수 없이도 가능\n",
        "    return 'Hi'\n",
        "\n",
        "\n",
        "\n",
        "# 입력값이 없는 함수의 사용법\n",
        "# 결괏값을 받을 변수 = 함수이름()\n",
        "a = say()\n",
        "print(a)\n",
        "\n"
      ],
      "execution_count": 11,
      "outputs": [
        {
          "output_type": "stream",
          "text": [
            "Hi\n"
          ],
          "name": "stdout"
        }
      ]
    },
    {
      "cell_type": "code",
      "metadata": {
        "id": "tcB9luQrmkB1",
        "colab_type": "code",
        "colab": {
          "base_uri": "https://localhost:8080/",
          "height": 34
        },
        "outputId": "4f874c4c-e066-4825-cfbc-ef826c9a85b0"
      },
      "source": [
        "# 결괏값이 없는 함수\n",
        "\n",
        "def add3(a, b): ###함수는 동일한 함수명 사용 불가\n",
        "    print(\"%d, %d의 합은 %d입니다.\" % (a, b, a+b))\n",
        "\n",
        "\n",
        "# 결괏값이 없는 함수의 사용법\n",
        "# 함수이름(입력인수1, 입력인수2, ...)\n",
        "add3(3, 4)\n"
      ],
      "execution_count": 12,
      "outputs": [
        {
          "output_type": "stream",
          "text": [
            "3, 4의 합은 7입니다.\n"
          ],
          "name": "stdout"
        }
      ]
    },
    {
      "cell_type": "code",
      "metadata": {
        "id": "nS5-1lqMmng1",
        "colab_type": "code",
        "colab": {
          "base_uri": "https://localhost:8080/",
          "height": 52
        },
        "outputId": "5056fcd5-66ae-435c-8184-2f24f8a67674"
      },
      "source": [
        "# 다음 결과는 무엇인가?\n",
        "a = add3(3, 4)  ## 실행가능\n",
        "print(a) ## None값이 나옴\n",
        "# "
      ],
      "execution_count": 13,
      "outputs": [
        {
          "output_type": "stream",
          "text": [
            "3, 4의 합은 7입니다.\n",
            "None\n"
          ],
          "name": "stdout"
        }
      ]
    },
    {
      "cell_type": "code",
      "metadata": {
        "id": "I8HuYRrKmvxd",
        "colab_type": "code",
        "colab": {
          "base_uri": "https://localhost:8080/",
          "height": 34
        },
        "outputId": "daffc995-2cbe-425b-a689-bc604bd5eb5f"
      },
      "source": [
        "# 입력값도 결괏값도 없는 함수\n",
        "\n",
        "def say2(): \n",
        "    print('Hi')\n",
        "\n",
        "\n",
        "# 입력값도 결괏값도 없는 함수의 사용법\n",
        "# 함수이름()\n",
        "say()\n"
      ],
      "execution_count": 14,
      "outputs": [
        {
          "output_type": "execute_result",
          "data": {
            "text/plain": [
              "'Hi'"
            ]
          },
          "metadata": {
            "tags": []
          },
          "execution_count": 14
        }
      ]
    },
    {
      "cell_type": "markdown",
      "metadata": {
        "id": "wNEI2xFtm0Zu",
        "colab_type": "text"
      },
      "source": [
        "###매개변수의 값을 지정하여 호출하기"
      ]
    },
    {
      "cell_type": "code",
      "metadata": {
        "id": "wIdVFUWLm75l",
        "colab_type": "code",
        "colab": {
          "base_uri": "https://localhost:8080/",
          "height": 34
        },
        "outputId": "f780ae32-2405-4bf0-c5f8-6825e842bb2d"
      },
      "source": [
        "def add4(a, b):\n",
        "    return a+b\n",
        "\n",
        "\n",
        "result = add4(a=3, b=7)  # a에 3, b에 7을 전달\n",
        "print(result)"
      ],
      "execution_count": 15,
      "outputs": [
        {
          "output_type": "stream",
          "text": [
            "10\n"
          ],
          "name": "stdout"
        }
      ]
    },
    {
      "cell_type": "code",
      "metadata": {
        "id": "1plGgfO-m-Ny",
        "colab_type": "code",
        "colab": {
          "base_uri": "https://localhost:8080/",
          "height": 34
        },
        "outputId": "d6cfc630-f219-4d38-d44f-bb14a159b51c"
      },
      "source": [
        "# 매개변수의 순서에 상관없이 사용\n",
        "result = add4(b=5, a=3)  # b에 5, a에 3을 전달\n",
        "print(result)"
      ],
      "execution_count": 16,
      "outputs": [
        {
          "output_type": "stream",
          "text": [
            "8\n"
          ],
          "name": "stdout"
        }
      ]
    },
    {
      "cell_type": "markdown",
      "metadata": {
        "id": "zfqD2mhJnDtc",
        "colab_type": "text"
      },
      "source": [
        "###매개변수의 값을 초기화하여 정의하기"
      ]
    },
    {
      "cell_type": "code",
      "metadata": {
        "id": "tELa9oE4nLyc",
        "colab_type": "code",
        "colab": {
          "base_uri": "https://localhost:8080/",
          "height": 34
        },
        "outputId": "3ed69a76-c204-404d-b91f-29b6f821cb90"
      },
      "source": [
        "def add5(a=1, b=2):\n",
        "    return a+b\n",
        "\n",
        "\n",
        "add5()    ### 값이 나옴"
      ],
      "execution_count": 17,
      "outputs": [
        {
          "output_type": "execute_result",
          "data": {
            "text/plain": [
              "3"
            ]
          },
          "metadata": {
            "tags": []
          },
          "execution_count": 17
        }
      ]
    },
    {
      "cell_type": "markdown",
      "metadata": {
        "id": "aSceLAWmnPfU",
        "colab_type": "text"
      },
      "source": [
        "##입력값이 몇 개가 될지 모를 때는 어떻게 해야 할까?\n",
        "\n",
        "\"\"\"\n",
        "def 함수이름(*매개변수): \n",
        "\n",
        "    <수행할 문장>    \n",
        "    ...    \n",
        "\"\"\""
      ]
    },
    {
      "cell_type": "code",
      "metadata": {
        "id": "eH22Np00neNE",
        "colab_type": "code",
        "colab": {}
      },
      "source": [
        "def add_many(*args):  ###함수의 매개변수의 갯수를 정하지 않고 실행 가능\n",
        "    result = 0 \n",
        "    for i in args: \n",
        "        result = result + i \n",
        "    return result \n",
        "\n"
      ],
      "execution_count": 0,
      "outputs": []
    },
    {
      "cell_type": "code",
      "metadata": {
        "id": "3LwIv1wtngHv",
        "colab_type": "code",
        "colab": {
          "base_uri": "https://localhost:8080/",
          "height": 34
        },
        "outputId": "73305be0-5981-4017-eefc-77f79765c8b8"
      },
      "source": [
        "add_many(1, 2, 3)"
      ],
      "execution_count": 19,
      "outputs": [
        {
          "output_type": "execute_result",
          "data": {
            "text/plain": [
              "6"
            ]
          },
          "metadata": {
            "tags": []
          },
          "execution_count": 19
        }
      ]
    },
    {
      "cell_type": "code",
      "metadata": {
        "id": "FT8gbSAdnhY0",
        "colab_type": "code",
        "colab": {
          "base_uri": "https://localhost:8080/",
          "height": 34
        },
        "outputId": "404a614d-2091-47b4-fd02-83cc6fd959bb"
      },
      "source": [
        "add_many(1, 2, 3, 4, 5, 6, 7, 8, 9)"
      ],
      "execution_count": 20,
      "outputs": [
        {
          "output_type": "execute_result",
          "data": {
            "text/plain": [
              "45"
            ]
          },
          "metadata": {
            "tags": []
          },
          "execution_count": 20
        }
      ]
    },
    {
      "cell_type": "code",
      "metadata": {
        "id": "UiVrQnvfnkA7",
        "colab_type": "code",
        "colab": {
          "base_uri": "https://localhost:8080/",
          "height": 34
        },
        "outputId": "2a7ce2ef-304d-4ce6-9aad-36876c8dc55b"
      },
      "source": [
        "result = add_many(1,2,3,4,5,6,7,8,9,10)\n",
        "print(result)"
      ],
      "execution_count": 21,
      "outputs": [
        {
          "output_type": "stream",
          "text": [
            "55\n"
          ],
          "name": "stdout"
        }
      ]
    },
    {
      "cell_type": "markdown",
      "metadata": {
        "id": "fZ-eKK0Inm1j",
        "colab_type": "text"
      },
      "source": [
        "###여러 개의 입력을 처리하는 함수(*args)"
      ]
    },
    {
      "cell_type": "code",
      "metadata": {
        "id": "M3V1qf_4ntoj",
        "colab_type": "code",
        "colab": {}
      },
      "source": [
        "def add_mul(choice, *args): ###chois로 더할지 곱할지 정하고, 그에 맞게 처리\n",
        "    if choice == \"add\":\n",
        "        result = 0 \n",
        "        for i in args:\n",
        "            result = result + i \n",
        "    elif choice == \"mul\":\n",
        "        result = 1 \n",
        "        for i in args: \n",
        "            result = result * i \n",
        "    return result \n",
        "  \n",
        "\n"
      ],
      "execution_count": 0,
      "outputs": []
    },
    {
      "cell_type": "code",
      "metadata": {
        "id": "JfwHeheznwm0",
        "colab_type": "code",
        "colab": {
          "base_uri": "https://localhost:8080/",
          "height": 52
        },
        "outputId": "689aca22-45ea-4e87-b860-2dcbb73a2377"
      },
      "source": [
        "# add\n",
        "result = add_mul('add', 1,2,3,4,5)\n",
        "print('add result = ', result)\n",
        "\n",
        "# multiply\n",
        "result = add_mul('mul', 1,2,3,4,5)\n",
        "print('mul result = ', result)\n"
      ],
      "execution_count": 25,
      "outputs": [
        {
          "output_type": "stream",
          "text": [
            "add result =  15\n",
            "mul result =  120\n"
          ],
          "name": "stdout"
        }
      ]
    },
    {
      "cell_type": "markdown",
      "metadata": {
        "id": "HQBw73MdoD-D",
        "colab_type": "text"
      },
      "source": [
        "###키워드 파라미터 kwargs -> keyword + args"
      ]
    },
    {
      "cell_type": "code",
      "metadata": {
        "id": "Ai_Mz2QMoRxO",
        "colab_type": "code",
        "colab": {}
      },
      "source": [
        "def print_kwargs(**kwargs):\n",
        "    print(kwargs)\n",
        "\n"
      ],
      "execution_count": 0,
      "outputs": []
    },
    {
      "cell_type": "code",
      "metadata": {
        "id": "ksdqwEfWoWCK",
        "colab_type": "code",
        "colab": {
          "base_uri": "https://localhost:8080/",
          "height": 52
        },
        "outputId": "ae41582b-8b20-4665-c377-79ed2781fc9b"
      },
      "source": [
        "# print_kwargs 함수는 매개변수 kwargs를 출력하는 함수\n",
        "print_kwargs(a=1)  ## 딕셔너리 형태로 출력\n",
        "\n",
        "print_kwargs(name='foo', age=3)"
      ],
      "execution_count": 27,
      "outputs": [
        {
          "output_type": "stream",
          "text": [
            "{'a': 1}\n",
            "{'name': 'foo', 'age': 3}\n"
          ],
          "name": "stdout"
        }
      ]
    },
    {
      "cell_type": "markdown",
      "metadata": {
        "id": "q4xooi8IoYtC",
        "colab_type": "text"
      },
      "source": [
        "\n",
        "**kwargs처럼 매개변수 이름 앞에 \n",
        "\n",
        "**을 붙이면 매개변수이다.\n",
        "\n",
        "kwargs는 딕셔너리가 되고 모든 key=value 형태의 결과값이 \n",
        "그 딕셔너리에 저장된다.\n"
      ]
    },
    {
      "cell_type": "markdown",
      "metadata": {
        "id": "OEZNa_BgpDch",
        "colab_type": "text"
      },
      "source": [
        "###함수의 결괏값은 언제나 하나\n"
      ]
    },
    {
      "cell_type": "code",
      "metadata": {
        "id": "tKOUP3ZTpKEZ",
        "colab_type": "code",
        "colab": {}
      },
      "source": [
        "def add_and_mul(a,b):  ### 값이 2개이상일 떄는 tuple 형태로 출력된다\n",
        "    return a+b, a*b\n",
        "\n",
        "  "
      ],
      "execution_count": 0,
      "outputs": []
    },
    {
      "cell_type": "code",
      "metadata": {
        "id": "cb3vlCLJpNyo",
        "colab_type": "code",
        "colab": {
          "base_uri": "https://localhost:8080/",
          "height": 52
        },
        "outputId": "a898fab1-db12-43d9-b9c3-aa3f8386d074"
      },
      "source": [
        "# add_and_mul() 사용 1.\n",
        "result = add_and_mul(3,4)\n",
        "\n",
        "print('result = ', result)\n",
        "\n",
        "# add_and_mul() 사용 2.\n",
        "result1, result2 = add_and_mul(3, 4)  ### tuple은 () 사용 안해도 가능함\n",
        "\n",
        "result1, result2  ### 이 자체가 tuple형식\n"
      ],
      "execution_count": 31,
      "outputs": [
        {
          "output_type": "stream",
          "text": [
            "result =  (7, 12)\n"
          ],
          "name": "stdout"
        },
        {
          "output_type": "execute_result",
          "data": {
            "text/plain": [
              "(7, 12)"
            ]
          },
          "metadata": {
            "tags": []
          },
          "execution_count": 31
        }
      ]
    },
    {
      "cell_type": "markdown",
      "metadata": {
        "id": "FLRY8vHupe2g",
        "colab_type": "text"
      },
      "source": [
        "###잘못된 함수"
      ]
    },
    {
      "cell_type": "code",
      "metadata": {
        "id": "RshTeREKplXa",
        "colab_type": "code",
        "colab": {
          "base_uri": "https://localhost:8080/",
          "height": 34
        },
        "outputId": "970ad289-f426-41ec-e918-babdba7eed13"
      },
      "source": [
        "def add_and_mul2(a,b): \n",
        "    return a+b  # return이 나온 후는 작업 끝\n",
        "    return a*b  # Not working!!\n",
        "\n",
        "\n",
        "result = add_and_mul2(2, 3)  # 더한 값만 나온다\n",
        "print(result)\n"
      ],
      "execution_count": 32,
      "outputs": [
        {
          "output_type": "stream",
          "text": [
            "5\n"
          ],
          "name": "stdout"
        }
      ]
    },
    {
      "cell_type": "markdown",
      "metadata": {
        "id": "rt9TGwwipoUI",
        "colab_type": "text"
      },
      "source": [
        "###return 의 용도: 함수 실행 종료"
      ]
    },
    {
      "cell_type": "code",
      "metadata": {
        "id": "FC9vGpMYpu2Y",
        "colab_type": "code",
        "colab": {
          "base_uri": "https://localhost:8080/",
          "height": 52
        },
        "outputId": "5be0537f-5d8e-49a3-daec-b9181f12722d"
      },
      "source": [
        "def say_nick(nick): \n",
        "    if nick == \"바보\": \n",
        "        return \n",
        "    print(\"나의 별명은 %s 입니다.\" % nick)  ## nick에 바보가 들어오면 그냥 출력, 다른 값이 온다면 '나의 별명은 ???입니다' 출력\n",
        "\n",
        "\n",
        "print(say_nick(\"홍길동\"))\n",
        "say_nick(\"바보\")"
      ],
      "execution_count": 36,
      "outputs": [
        {
          "output_type": "stream",
          "text": [
            "나의 별명은 홍길동 입니다.\n",
            "None\n"
          ],
          "name": "stdout"
        }
      ]
    },
    {
      "cell_type": "markdown",
      "metadata": {
        "id": "do3eY-1Bp9qA",
        "colab_type": "text"
      },
      "source": [
        "###매개변수에 초깃값 미리 설정하기"
      ]
    },
    {
      "cell_type": "code",
      "metadata": {
        "id": "q_H0WoHIqDb_",
        "colab_type": "code",
        "colab": {}
      },
      "source": [
        "def say_myself(name, old, man=True): \n",
        "    print(\"나의 이름은 %s 입니다.\" % name) \n",
        "    print(\"나이는 %d살입니다.\" % old) \n",
        "    if man: \n",
        "        print(\"남자입니다.\")\n",
        "    else: \n",
        "        print(\"여자입니다.\")\n",
        "\n",
        "\n"
      ],
      "execution_count": 0,
      "outputs": []
    },
    {
      "cell_type": "code",
      "metadata": {
        "id": "DxgtludqqKOW",
        "colab_type": "code",
        "colab": {
          "base_uri": "https://localhost:8080/",
          "height": 70
        },
        "outputId": "c6e2da7c-43d5-499c-f45b-7d20536b30c1"
      },
      "source": [
        "say_myself(\"박응용\", 27)"
      ],
      "execution_count": 39,
      "outputs": [
        {
          "output_type": "stream",
          "text": [
            "나의 이름은 박응용 입니다.\n",
            "나이는 27살입니다.\n",
            "남자입니다.\n"
          ],
          "name": "stdout"
        }
      ]
    },
    {
      "cell_type": "code",
      "metadata": {
        "id": "1kF8LNeoqMrW",
        "colab_type": "code",
        "colab": {
          "base_uri": "https://localhost:8080/",
          "height": 70
        },
        "outputId": "2b2109b9-9978-4362-b60b-1c1ced1dbc29"
      },
      "source": [
        "say_myself(\"박응용\", 27, True)"
      ],
      "execution_count": 40,
      "outputs": [
        {
          "output_type": "stream",
          "text": [
            "나의 이름은 박응용 입니다.\n",
            "나이는 27살입니다.\n",
            "남자입니다.\n"
          ],
          "name": "stdout"
        }
      ]
    },
    {
      "cell_type": "code",
      "metadata": {
        "id": "A6n6nvjDqM_u",
        "colab_type": "code",
        "colab": {
          "base_uri": "https://localhost:8080/",
          "height": 70
        },
        "outputId": "fcb35959-207c-466f-e1a9-9264307a2473"
      },
      "source": [
        "say_myself(\"박응용\", 27, False)"
      ],
      "execution_count": 41,
      "outputs": [
        {
          "output_type": "stream",
          "text": [
            "나의 이름은 박응용 입니다.\n",
            "나이는 27살입니다.\n",
            "여자입니다.\n"
          ],
          "name": "stdout"
        }
      ]
    },
    {
      "cell_type": "markdown",
      "metadata": {
        "id": "KIwWYsAnqSQ-",
        "colab_type": "text"
      },
      "source": [
        "여기서 매개변수의 위치를 바꾸면 에러가 나온다.\n",
        "\n",
        "\"\"\"\n",
        "\n",
        "def say_myself2(name, man=True, old): \n",
        "\n",
        "    print(\"나의 이름은 %s 입니다.\" % name) \n",
        "    \n",
        "    print(\"나이는 %d살입니다.\" % old) \n",
        "    \n",
        "    if man: \n",
        "    \n",
        "        print(\"남자입니다.\") \n",
        "        \n",
        "    else:\n",
        "    \n",
        "        print(\"여자입니다.\") \n",
        "\n",
        "\"\"\"\n",
        "\n",
        "초깃값을 설정해 놓은 매개변수 뒤에 \n",
        "초깃값을 설정해 놓지 않은 매개변수는 사용할 수 없다\n",
        "\n",
        "초기화시키고 싶은 매개변수를 항상 뒤쪽에 놓는다."
      ]
    },
    {
      "cell_type": "markdown",
      "metadata": {
        "id": "V9505LCWqvuB",
        "colab_type": "text"
      },
      "source": [
        "###함수 안에서 선언한 변수의 효력 범위\n",
        "전역변수, 지역 변수, 자동 변수"
      ]
    },
    {
      "cell_type": "code",
      "metadata": {
        "id": "memFWtdVq7kO",
        "colab_type": "code",
        "colab": {
          "base_uri": "https://localhost:8080/",
          "height": 34
        },
        "outputId": "c4231985-1d9a-4d68-c366-1870b4b25255"
      },
      "source": [
        "# vartest.py\n",
        "a = 1    ## 전역변수\n",
        "def vartest(a):  ## 자동변수\n",
        "    a = a +1  ## 지역 변수\n",
        "\n",
        "\n",
        "vartest(a)\n",
        "print(a)\n",
        "### 전역변수가 출력된다"
      ],
      "execution_count": 42,
      "outputs": [
        {
          "output_type": "stream",
          "text": [
            "1\n"
          ],
          "name": "stdout"
        }
      ]
    },
    {
      "cell_type": "code",
      "metadata": {
        "id": "gN8y-h-8rDMO",
        "colab_type": "code",
        "colab": {
          "base_uri": "https://localhost:8080/",
          "height": 345
        },
        "outputId": "11fff4be-febc-412c-ed27-db30aec80a5b"
      },
      "source": [
        "# vartest_error.py\n",
        "def vartest2(z2):\n",
        "    z2 = z + 1\n",
        "\n",
        "\n",
        "vartest2(3)\n",
        "print(z2)  # Error"
      ],
      "execution_count": 44,
      "outputs": [
        {
          "output_type": "error",
          "ename": "TypeError",
          "evalue": "ignored",
          "traceback": [
            "\u001b[0;31m---------------------------------------------------------------------------\u001b[0m",
            "\u001b[0;31mTypeError\u001b[0m                                 Traceback (most recent call last)",
            "\u001b[0;32m<ipython-input-44-24eabea50da6>\u001b[0m in \u001b[0;36m<module>\u001b[0;34m()\u001b[0m\n\u001b[1;32m      3\u001b[0m \u001b[0;34m\u001b[0m\u001b[0m\n\u001b[1;32m      4\u001b[0m \u001b[0;34m\u001b[0m\u001b[0m\n\u001b[0;32m----> 5\u001b[0;31m \u001b[0mvartest2\u001b[0m\u001b[0;34m(\u001b[0m\u001b[0;36m3\u001b[0m\u001b[0;34m)\u001b[0m\u001b[0;34m\u001b[0m\u001b[0;34m\u001b[0m\u001b[0m\n\u001b[0m\u001b[1;32m      6\u001b[0m \u001b[0mprint\u001b[0m\u001b[0;34m(\u001b[0m\u001b[0mz2\u001b[0m\u001b[0;34m)\u001b[0m  \u001b[0;31m# Error\u001b[0m\u001b[0;34m\u001b[0m\u001b[0;34m\u001b[0m\u001b[0m\n",
            "\u001b[0;32m<ipython-input-44-24eabea50da6>\u001b[0m in \u001b[0;36mvartest2\u001b[0;34m(z2)\u001b[0m\n\u001b[1;32m      1\u001b[0m \u001b[0;32mdef\u001b[0m \u001b[0mvartest2\u001b[0m\u001b[0;34m(\u001b[0m\u001b[0mz2\u001b[0m\u001b[0;34m)\u001b[0m\u001b[0;34m:\u001b[0m\u001b[0;34m\u001b[0m\u001b[0;34m\u001b[0m\u001b[0m\n\u001b[0;32m----> 2\u001b[0;31m     \u001b[0mz2\u001b[0m \u001b[0;34m=\u001b[0m \u001b[0mz\u001b[0m \u001b[0;34m+\u001b[0m \u001b[0;36m1\u001b[0m\u001b[0;34m\u001b[0m\u001b[0;34m\u001b[0m\u001b[0m\n\u001b[0m\u001b[1;32m      3\u001b[0m \u001b[0;34m\u001b[0m\u001b[0m\n\u001b[1;32m      4\u001b[0m \u001b[0;34m\u001b[0m\u001b[0m\n\u001b[1;32m      5\u001b[0m \u001b[0mvartest2\u001b[0m\u001b[0;34m(\u001b[0m\u001b[0;36m3\u001b[0m\u001b[0;34m)\u001b[0m\u001b[0;34m\u001b[0m\u001b[0;34m\u001b[0m\u001b[0m\n",
            "\u001b[0;31mTypeError\u001b[0m: can only concatenate list (not \"int\") to list"
          ]
        }
      ]
    },
    {
      "cell_type": "markdown",
      "metadata": {
        "id": "sn3Ie0vYrNC2",
        "colab_type": "text"
      },
      "source": [
        "##함수 안에서 함수 밖의 변수를 변경하는 방법\n",
        "####return 사용\n",
        "####global 변수 사용\n"
      ]
    },
    {
      "cell_type": "code",
      "metadata": {
        "id": "sN52Y6cArWKO",
        "colab_type": "code",
        "colab": {
          "base_uri": "https://localhost:8080/",
          "height": 34
        },
        "outputId": "3e923afc-3aa1-4215-c3f9-b020948f047b"
      },
      "source": [
        "# 1. return 사용하기\n",
        "a = 1 \n",
        "def vartest3(a): \n",
        "    a = a +1 \n",
        "    return a\n",
        "\n",
        "\n",
        "a = vartest3(a) \n",
        "print(a)\n"
      ],
      "execution_count": 45,
      "outputs": [
        {
          "output_type": "stream",
          "text": [
            "2\n"
          ],
          "name": "stdout"
        }
      ]
    },
    {
      "cell_type": "code",
      "metadata": {
        "id": "HXZeQA0XrXv1",
        "colab_type": "code",
        "colab": {
          "base_uri": "https://localhost:8080/",
          "height": 34
        },
        "outputId": "f2d2ce0e-2f49-49d8-9c19-b51f0fa88470"
      },
      "source": [
        "# 2. global 명령어 사용하기\n",
        "a = 1 \n",
        "def vartest4(): \n",
        "    global a \n",
        "    a = a+1\n",
        "\n",
        "\n",
        "vartest4() \n",
        "print(a)\n",
        "\n"
      ],
      "execution_count": 46,
      "outputs": [
        {
          "output_type": "stream",
          "text": [
            "2\n"
          ],
          "name": "stdout"
        }
      ]
    },
    {
      "cell_type": "markdown",
      "metadata": {
        "id": "Bw2Udg7QrbNt",
        "colab_type": "text"
      },
      "source": [
        "#--------   lambda  -------------------\n",
        "\n",
        "lambda는 함수를 생성할 때 사용하는 예약어로 def와 동일한 역할을 한다. \n",
        "보통 함수를 한줄로 간결하게 만들 때 사용한다.\n",
        "\n",
        "lambda 사용법\n",
        "\n",
        "lambda 매개변수1, 매개변수2, ... : 매개변수를 이용한 표현식\n",
        "\n"
      ]
    },
    {
      "cell_type": "markdown",
      "metadata": {
        "id": "rrJVD5EcrlLd",
        "colab_type": "text"
      },
      "source": [
        "###lambda를 이용한 add 함수"
      ]
    },
    {
      "cell_type": "code",
      "metadata": {
        "id": "V-mRzPairrod",
        "colab_type": "code",
        "colab": {
          "base_uri": "https://localhost:8080/",
          "height": 34
        },
        "outputId": "56cbf8d0-6d6d-4249-8eba-85de91a82c6a"
      },
      "source": [
        "add = lambda a, b: a+b  ## def없이 함수를 정의하는 법\n",
        "\n",
        "result = add(3, 4)\n",
        "print(result)\n",
        "\n",
        "# lambda 예약어로 만든 함수는 return 명령어가 없어도 결괏값을 돌려준다."
      ],
      "execution_count": 47,
      "outputs": [
        {
          "output_type": "stream",
          "text": [
            "7\n"
          ],
          "name": "stdout"
        }
      ]
    },
    {
      "cell_type": "code",
      "metadata": {
        "id": "NJN9gvgwrv_1",
        "colab_type": "code",
        "colab": {
          "base_uri": "https://localhost:8080/",
          "height": 34
        },
        "outputId": "13acc41f-e2fe-4cb2-b82f-41a4455891bc"
      },
      "source": [
        "# lambda 함수의 응용\n",
        "\n",
        "models = ['K-3000', 'N-1000', 'T-2000', 'X-5000']\n",
        "sorted(models, key=lambda x: x[-4:])  ## 리스트의 각 값의 뒤에서 4번째 값을 sorted라는 내장함수로 낮은 값부터 큰값 순서로 출력"
      ],
      "execution_count": 48,
      "outputs": [
        {
          "output_type": "execute_result",
          "data": {
            "text/plain": [
              "['N-1000', 'T-2000', 'K-3000', 'X-5000']"
            ]
          },
          "metadata": {
            "tags": []
          },
          "execution_count": 48
        }
      ]
    }
  ]
}